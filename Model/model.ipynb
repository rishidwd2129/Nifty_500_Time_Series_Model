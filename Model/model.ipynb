{
 "cells": [
  {
   "cell_type": "code",
   "execution_count": 6,
   "metadata": {},
   "outputs": [],
   "source": [
    "import numpy as np\n",
    "from numpy import array\n",
    "from sklearn.preprocessing import MinMaxScaler\n",
    "from keras.models import Sequential\n",
    "from keras.models import load_model\n",
    "import pandas as pd"
   ]
  },
  {
   "cell_type": "code",
   "execution_count": 7,
   "metadata": {},
   "outputs": [],
   "source": [
    "df = pd.read_csv('../Data.csv')\n",
    "df.columns = df.columns.str.strip()\n",
    "df.columns = df.columns.str.lower()\n",
    "df = df.reset_index()['close']"
   ]
  },
  {
   "cell_type": "code",
   "execution_count": 46,
   "metadata": {},
   "outputs": [],
   "source": [
    "df1 =pd.DataFrame(df).to_numpy()"
   ]
  },
  {
   "cell_type": "code",
   "execution_count": 56,
   "metadata": {},
   "outputs": [
    {
     "data": {
      "text/plain": [
       "np.float64(0.7789988252681044)"
      ]
     },
     "execution_count": 56,
     "metadata": {},
     "output_type": "execute_result"
    }
   ],
   "source": [
    "df1[-1][0]\n"
   ]
  },
  {
   "cell_type": "code",
   "execution_count": 42,
   "metadata": {},
   "outputs": [
    {
     "ename": "AttributeError",
     "evalue": "'numpy.ndarray' object has no attribute 'values'",
     "output_type": "error",
     "traceback": [
      "\u001b[1;31m---------------------------------------------------------------------------\u001b[0m",
      "\u001b[1;31mAttributeError\u001b[0m                            Traceback (most recent call last)",
      "Cell \u001b[1;32mIn[42], line 1\u001b[0m\n\u001b[1;32m----> 1\u001b[0m df1 \u001b[38;5;241m=\u001b[39m \u001b[43mdf\u001b[49m\u001b[38;5;241;43m.\u001b[39;49m\u001b[43mvalues\u001b[49m\n",
      "\u001b[1;31mAttributeError\u001b[0m: 'numpy.ndarray' object has no attribute 'values'"
     ]
    }
   ],
   "source": [
    "df1 = df.values"
   ]
  },
  {
   "cell_type": "code",
   "execution_count": 41,
   "metadata": {},
   "outputs": [
    {
     "name": "stdout",
     "output_type": "stream",
     "text": [
      "0.7789988252681044\n"
     ]
    }
   ],
   "source": [
    "out=df[-1, 0]  \n",
    "print(out)"
   ]
  },
  {
   "cell_type": "code",
   "execution_count": 16,
   "metadata": {},
   "outputs": [
    {
     "data": {
      "text/plain": [
       "array([[0.02064876],\n",
       "       [0.0295123 ],\n",
       "       [0.03521164],\n",
       "       ...,\n",
       "       [0.75357914],\n",
       "       [0.75752018],\n",
       "       [0.77899883]])"
      ]
     },
     "execution_count": 16,
     "metadata": {},
     "output_type": "execute_result"
    }
   ],
   "source": [
    "df"
   ]
  },
  {
   "cell_type": "code",
   "execution_count": 8,
   "metadata": {},
   "outputs": [],
   "source": [
    "scaler=MinMaxScaler (feature_range=(0,1))\n",
    "df=scaler.fit_transform(np.array(df).reshape(-1,1))\n",
    "    "
   ]
  },
  {
   "cell_type": "code",
   "execution_count": 21,
   "metadata": {},
   "outputs": [
    {
     "data": {
      "text/plain": [
       "array([[0.85004358],\n",
       "       [0.86228732],\n",
       "       [0.88891584],\n",
       "       [0.87186707],\n",
       "       [0.85969533],\n",
       "       [0.85558377],\n",
       "       [0.83585206],\n",
       "       [0.80431619],\n",
       "       [0.80796544],\n",
       "       [0.80313767],\n",
       "       [0.81109174],\n",
       "       [0.79718443],\n",
       "       [0.8278563 ],\n",
       "       [0.85271136],\n",
       "       [0.85338967],\n",
       "       [0.86318542],\n",
       "       [0.84974421],\n",
       "       [0.86282921],\n",
       "       [0.87411042],\n",
       "       [0.88813142],\n",
       "       [0.89409224],\n",
       "       [0.90761681],\n",
       "       [0.91020501],\n",
       "       [0.90868165],\n",
       "       [0.91041722],\n",
       "       [0.9136951 ],\n",
       "       [0.90598355],\n",
       "       [0.91375573],\n",
       "       [0.9132631 ],\n",
       "       [0.89380803],\n",
       "       [0.88157945],\n",
       "       [0.86776687],\n",
       "       [0.83496912],\n",
       "       [0.84200993],\n",
       "       [0.84128235],\n",
       "       [0.84337792],\n",
       "       [0.84450339],\n",
       "       [0.83783016],\n",
       "       [0.83921331],\n",
       "       [0.84727727],\n",
       "       [0.87289022],\n",
       "       [0.86443215],\n",
       "       [0.82784494],\n",
       "       [0.83665542],\n",
       "       [0.82832999],\n",
       "       [0.81429005],\n",
       "       [0.79552844],\n",
       "       [0.75342378],\n",
       "       [0.77143128],\n",
       "       [0.77674789],\n",
       "       [0.78912805],\n",
       "       [0.78652848],\n",
       "       [0.79628633],\n",
       "       [0.76780477],\n",
       "       [0.76502709],\n",
       "       [0.77575126],\n",
       "       [0.75914207],\n",
       "       [0.72822388],\n",
       "       [0.72926977],\n",
       "       [0.75357914]])"
      ]
     },
     "execution_count": 21,
     "metadata": {},
     "output_type": "execute_result"
    }
   ],
   "source": [
    "df1 = df[-62:-2]\n",
    "df1"
   ]
  },
  {
   "cell_type": "code",
   "execution_count": 22,
   "metadata": {},
   "outputs": [
    {
     "data": {
      "text/plain": [
       "1"
      ]
     },
     "execution_count": 22,
     "metadata": {},
     "output_type": "execute_result"
    }
   ],
   "source": [
    "df=scaler.fit_transform(np.array(df).reshape(-1,1))\n",
    "x_input = df[-62:-2].reshape(1,-1)\n",
    "len(x_input)"
   ]
  },
  {
   "cell_type": "code",
   "execution_count": 23,
   "metadata": {},
   "outputs": [
    {
     "data": {
      "text/plain": [
       "array([0.85004358, 0.86228732, 0.88891584, 0.87186707, 0.85969533,\n",
       "       0.85558377, 0.83585206, 0.80431619, 0.80796544, 0.80313767,\n",
       "       0.81109174, 0.79718443, 0.8278563 , 0.85271136, 0.85338967,\n",
       "       0.86318542, 0.84974421, 0.86282921, 0.87411042, 0.88813142,\n",
       "       0.89409224, 0.90761681, 0.91020501, 0.90868165, 0.91041722,\n",
       "       0.9136951 , 0.90598355, 0.91375573, 0.9132631 , 0.89380803,\n",
       "       0.88157945, 0.86776687, 0.83496912, 0.84200993, 0.84128235,\n",
       "       0.84337792, 0.84450339, 0.83783016, 0.83921331, 0.84727727,\n",
       "       0.87289022, 0.86443215, 0.82784494, 0.83665542, 0.82832999,\n",
       "       0.81429005, 0.79552844, 0.75342378, 0.77143128, 0.77674789,\n",
       "       0.78912805, 0.78652848, 0.79628633, 0.76780477, 0.76502709,\n",
       "       0.77575126, 0.75914207, 0.72822388, 0.72926977, 0.75357914])"
      ]
     },
     "execution_count": 23,
     "metadata": {},
     "output_type": "execute_result"
    }
   ],
   "source": [
    "x_input[0]"
   ]
  },
  {
   "cell_type": "code",
   "execution_count": 24,
   "metadata": {},
   "outputs": [],
   "source": [
    "temp_input = list(x_input)\n",
    "temp_input = temp_input[0].tolist()"
   ]
  },
  {
   "cell_type": "code",
   "execution_count": 25,
   "metadata": {},
   "outputs": [
    {
     "data": {
      "text/plain": [
       "60"
      ]
     },
     "execution_count": 25,
     "metadata": {},
     "output_type": "execute_result"
    }
   ],
   "source": [
    "len(temp_input)"
   ]
  },
  {
   "cell_type": "code",
   "execution_count": 26,
   "metadata": {},
   "outputs": [],
   "source": [
    "def predict(df, time_step):\n",
    "    scaler=MinMaxScaler (feature_range=(0,1))\n",
    "    df=scaler.fit_transform(np.array(df).reshape(-1,1))\n",
    "    x_input = df[-62:-2].reshape(1,-1)\n",
    "    temp_input = list(x_input)\n",
    "    temp_input = temp_input[0].tolist()\n",
    "    \n",
    "    model = load_model('lstm_model.h5')\n",
    "    \n",
    "    lst_output=[]\n",
    "    n_steps=time_step\n",
    "    i=0\n",
    "    while(i<1):\n",
    "\n",
    "        if(len(temp_input)>time_step):\n",
    "            #print(temp_input)\n",
    "            x_input=np.array(temp_input[1:])\n",
    "            print(\"{} day input {}\".format(i,x_input))\n",
    "            x_input=x_input.reshape(1,-1)\n",
    "            x_input = x_input.reshape((1, n_steps, 1))\n",
    "            #print(x_input)\n",
    "            yhat = model.predict(x_input, verbose=0)\n",
    "            print(\"{} day output {}\".format(i,yhat))\n",
    "            temp_input.extend(yhat[0].tolist())\n",
    "            temp_input=temp_input[1:]\n",
    "            #print(temp_input)\n",
    "            lst_output.extend(yhat.tolist())\n",
    "            i=i+1\n",
    "        else:\n",
    "            x_input = x_input.reshape((1, n_steps,1))\n",
    "            yhat = model.predict(x_input, verbose=0)\n",
    "            print(yhat[0])\n",
    "            temp_input.extend(yhat[0].tolist())\n",
    "            print(len(temp_input))\n",
    "            lst_output.extend(yhat.tolist())\n",
    "            i=i+1\n",
    "    return yhat"
   ]
  },
  {
   "cell_type": "code",
   "execution_count": 29,
   "metadata": {},
   "outputs": [
    {
     "name": "stderr",
     "output_type": "stream",
     "text": [
      "WARNING:absl:Compiled the loaded model, but the compiled metrics have yet to be built. `model.compile_metrics` will be empty until you train or evaluate the model.\n"
     ]
    },
    {
     "name": "stdout",
     "output_type": "stream",
     "text": [
      "[0.76343954]\n",
      "61\n"
     ]
    },
    {
     "data": {
      "text/plain": [
       "[[0.7634395360946655]]"
      ]
     },
     "execution_count": 29,
     "metadata": {},
     "output_type": "execute_result"
    }
   ],
   "source": [
    "out = predict(df,60)\n",
    "out"
   ]
  },
  {
   "cell_type": "code",
   "execution_count": 28,
   "metadata": {},
   "outputs": [
    {
     "data": {
      "text/plain": [
       "array([0.77899883])"
      ]
     },
     "execution_count": 28,
     "metadata": {},
     "output_type": "execute_result"
    }
   ],
   "source": [
    "actual_value = df[-1]\n",
    "actual_value"
   ]
  },
  {
   "cell_type": "code",
   "execution_count": 30,
   "metadata": {},
   "outputs": [
    {
     "data": {
      "text/plain": [
       "array([[-0.01997344]])"
      ]
     },
     "execution_count": 30,
     "metadata": {},
     "output_type": "execute_result"
    }
   ],
   "source": [
    "error = (out-actual_value)/actual_value\n",
    "error"
   ]
  },
  {
   "cell_type": "code",
   "execution_count": null,
   "metadata": {},
   "outputs": [],
   "source": []
  }
 ],
 "metadata": {
  "kernelspec": {
   "display_name": ".env",
   "language": "python",
   "name": "python3"
  },
  "language_info": {
   "codemirror_mode": {
    "name": "ipython",
    "version": 3
   },
   "file_extension": ".py",
   "mimetype": "text/x-python",
   "name": "python",
   "nbconvert_exporter": "python",
   "pygments_lexer": "ipython3",
   "version": "3.12.8"
  }
 },
 "nbformat": 4,
 "nbformat_minor": 2
}
