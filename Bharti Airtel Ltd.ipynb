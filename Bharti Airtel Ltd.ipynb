{
 "cells": [
  {
   "cell_type": "code",
   "execution_count": 3,
   "metadata": {},
   "outputs": [],
   "source": [
    "# import yfinance as yf\n",
    "import time\n",
    "# import pandas_datareader as web\n",
    "import numpy as np\n",
    "import pandas as pd\n",
    "from sklearn.preprocessing import MinMaxScaler\n",
    "from keras.models import Sequential\n",
    "from keras.layers import Dense, LSTM\n",
    "import matplotlib.pyplot as plt\n",
    "import yfinance as yf"
   ]
  },
  {
   "cell_type": "code",
   "execution_count": 2,
   "metadata": {},
   "outputs": [
    {
     "name": "stderr",
     "output_type": "stream",
     "text": [
      "[*********************100%***********************]  1 of 1 completed\n"
     ]
    },
    {
     "data": {
      "text/html": [
       "<div>\n",
       "<style scoped>\n",
       "    .dataframe tbody tr th:only-of-type {\n",
       "        vertical-align: middle;\n",
       "    }\n",
       "\n",
       "    .dataframe tbody tr th {\n",
       "        vertical-align: top;\n",
       "    }\n",
       "\n",
       "    .dataframe thead tr th {\n",
       "        text-align: left;\n",
       "    }\n",
       "\n",
       "    .dataframe thead tr:last-of-type th {\n",
       "        text-align: right;\n",
       "    }\n",
       "</style>\n",
       "<table border=\"1\" class=\"dataframe\">\n",
       "  <thead>\n",
       "    <tr>\n",
       "      <th>Price</th>\n",
       "      <th>Close</th>\n",
       "      <th>High</th>\n",
       "      <th>Low</th>\n",
       "      <th>Open</th>\n",
       "      <th>Volume</th>\n",
       "    </tr>\n",
       "    <tr>\n",
       "      <th>Ticker</th>\n",
       "      <th>BHARTIARTL.NS</th>\n",
       "      <th>BHARTIARTL.NS</th>\n",
       "      <th>BHARTIARTL.NS</th>\n",
       "      <th>BHARTIARTL.NS</th>\n",
       "      <th>BHARTIARTL.NS</th>\n",
       "    </tr>\n",
       "    <tr>\n",
       "      <th>Date</th>\n",
       "      <th></th>\n",
       "      <th></th>\n",
       "      <th></th>\n",
       "      <th></th>\n",
       "      <th></th>\n",
       "    </tr>\n",
       "  </thead>\n",
       "  <tbody>\n",
       "    <tr>\n",
       "      <th>2020-01-01</th>\n",
       "      <td>436.938934</td>\n",
       "      <td>443.879073</td>\n",
       "      <td>433.517054</td>\n",
       "      <td>439.589668</td>\n",
       "      <td>5154996</td>\n",
       "    </tr>\n",
       "    <tr>\n",
       "      <th>2020-01-02</th>\n",
       "      <td>438.770386</td>\n",
       "      <td>442.818785</td>\n",
       "      <td>437.131744</td>\n",
       "      <td>437.710074</td>\n",
       "      <td>4933053</td>\n",
       "    </tr>\n",
       "    <tr>\n",
       "      <th>2020-01-03</th>\n",
       "      <td>438.673981</td>\n",
       "      <td>442.626002</td>\n",
       "      <td>435.203941</td>\n",
       "      <td>439.252341</td>\n",
       "      <td>5154587</td>\n",
       "    </tr>\n",
       "    <tr>\n",
       "      <th>2020-01-06</th>\n",
       "      <td>433.420685</td>\n",
       "      <td>440.939154</td>\n",
       "      <td>428.601139</td>\n",
       "      <td>437.517274</td>\n",
       "      <td>7538915</td>\n",
       "    </tr>\n",
       "    <tr>\n",
       "      <th>2020-01-07</th>\n",
       "      <td>429.034882</td>\n",
       "      <td>438.866730</td>\n",
       "      <td>427.107075</td>\n",
       "      <td>435.685855</td>\n",
       "      <td>4353883</td>\n",
       "    </tr>\n",
       "    <tr>\n",
       "      <th>...</th>\n",
       "      <td>...</td>\n",
       "      <td>...</td>\n",
       "      <td>...</td>\n",
       "      <td>...</td>\n",
       "      <td>...</td>\n",
       "    </tr>\n",
       "    <tr>\n",
       "      <th>2025-02-04</th>\n",
       "      <td>1661.449951</td>\n",
       "      <td>1668.300049</td>\n",
       "      <td>1629.050049</td>\n",
       "      <td>1662.150024</td>\n",
       "      <td>6385876</td>\n",
       "    </tr>\n",
       "    <tr>\n",
       "      <th>2025-02-05</th>\n",
       "      <td>1660.449951</td>\n",
       "      <td>1675.199951</td>\n",
       "      <td>1649.099976</td>\n",
       "      <td>1670.000000</td>\n",
       "      <td>3920893</td>\n",
       "    </tr>\n",
       "    <tr>\n",
       "      <th>2025-02-06</th>\n",
       "      <td>1619.750000</td>\n",
       "      <td>1667.300049</td>\n",
       "      <td>1613.250000</td>\n",
       "      <td>1665.900024</td>\n",
       "      <td>5229162</td>\n",
       "    </tr>\n",
       "    <tr>\n",
       "      <th>2025-02-07</th>\n",
       "      <td>1676.750000</td>\n",
       "      <td>1707.550049</td>\n",
       "      <td>1635.000000</td>\n",
       "      <td>1635.050049</td>\n",
       "      <td>14873255</td>\n",
       "    </tr>\n",
       "    <tr>\n",
       "      <th>2025-02-10</th>\n",
       "      <td>1693.050049</td>\n",
       "      <td>1700.000000</td>\n",
       "      <td>1678.050049</td>\n",
       "      <td>1698.849976</td>\n",
       "      <td>6782465</td>\n",
       "    </tr>\n",
       "  </tbody>\n",
       "</table>\n",
       "<p>1267 rows × 5 columns</p>\n",
       "</div>"
      ],
      "text/plain": [
       "Price              Close          High           Low          Open  \\\n",
       "Ticker     BHARTIARTL.NS BHARTIARTL.NS BHARTIARTL.NS BHARTIARTL.NS   \n",
       "Date                                                                 \n",
       "2020-01-01    436.938934    443.879073    433.517054    439.589668   \n",
       "2020-01-02    438.770386    442.818785    437.131744    437.710074   \n",
       "2020-01-03    438.673981    442.626002    435.203941    439.252341   \n",
       "2020-01-06    433.420685    440.939154    428.601139    437.517274   \n",
       "2020-01-07    429.034882    438.866730    427.107075    435.685855   \n",
       "...                  ...           ...           ...           ...   \n",
       "2025-02-04   1661.449951   1668.300049   1629.050049   1662.150024   \n",
       "2025-02-05   1660.449951   1675.199951   1649.099976   1670.000000   \n",
       "2025-02-06   1619.750000   1667.300049   1613.250000   1665.900024   \n",
       "2025-02-07   1676.750000   1707.550049   1635.000000   1635.050049   \n",
       "2025-02-10   1693.050049   1700.000000   1678.050049   1698.849976   \n",
       "\n",
       "Price             Volume  \n",
       "Ticker     BHARTIARTL.NS  \n",
       "Date                      \n",
       "2020-01-01       5154996  \n",
       "2020-01-02       4933053  \n",
       "2020-01-03       5154587  \n",
       "2020-01-06       7538915  \n",
       "2020-01-07       4353883  \n",
       "...                  ...  \n",
       "2025-02-04       6385876  \n",
       "2025-02-05       3920893  \n",
       "2025-02-06       5229162  \n",
       "2025-02-07      14873255  \n",
       "2025-02-10       6782465  \n",
       "\n",
       "[1267 rows x 5 columns]"
      ]
     },
     "execution_count": 2,
     "metadata": {},
     "output_type": "execute_result"
    }
   ],
   "source": [
    "df = yf.download('BHARTIARTL.NS', start = '2020-01-01')\n",
    "df\n"
   ]
  },
  {
   "cell_type": "code",
   "execution_count": null,
   "metadata": {},
   "outputs": [
    {
     "data": {
      "text/html": [
       "<div>\n",
       "<style scoped>\n",
       "    .dataframe tbody tr th:only-of-type {\n",
       "        vertical-align: middle;\n",
       "    }\n",
       "\n",
       "    .dataframe tbody tr th {\n",
       "        vertical-align: top;\n",
       "    }\n",
       "\n",
       "    .dataframe thead th {\n",
       "        text-align: right;\n",
       "    }\n",
       "</style>\n",
       "<table border=\"1\" class=\"dataframe\">\n",
       "  <thead>\n",
       "    <tr style=\"text-align: right;\">\n",
       "      <th></th>\n",
       "      <th>Close</th>\n",
       "      <th>High</th>\n",
       "      <th>Low</th>\n",
       "      <th>Open</th>\n",
       "      <th>Volume</th>\n",
       "    </tr>\n",
       "    <tr>\n",
       "      <th>Date</th>\n",
       "      <th></th>\n",
       "      <th></th>\n",
       "      <th></th>\n",
       "      <th></th>\n",
       "      <th></th>\n",
       "    </tr>\n",
       "  </thead>\n",
       "  <tbody>\n",
       "    <tr>\n",
       "      <th>2025-01-14</th>\n",
       "      <td>1600.099976</td>\n",
       "      <td>1633.400024</td>\n",
       "      <td>1578.500000</td>\n",
       "      <td>1604.699951</td>\n",
       "      <td>7284572</td>\n",
       "    </tr>\n",
       "    <tr>\n",
       "      <th>2025-01-15</th>\n",
       "      <td>1607.449951</td>\n",
       "      <td>1613.849976</td>\n",
       "      <td>1593.000000</td>\n",
       "      <td>1608.050049</td>\n",
       "      <td>2960985</td>\n",
       "    </tr>\n",
       "    <tr>\n",
       "      <th>2025-01-16</th>\n",
       "      <td>1630.199951</td>\n",
       "      <td>1635.000000</td>\n",
       "      <td>1600.550049</td>\n",
       "      <td>1619.050049</td>\n",
       "      <td>5299325</td>\n",
       "    </tr>\n",
       "    <tr>\n",
       "      <th>2025-01-17</th>\n",
       "      <td>1627.500000</td>\n",
       "      <td>1639.000000</td>\n",
       "      <td>1623.000000</td>\n",
       "      <td>1630.099976</td>\n",
       "      <td>2678801</td>\n",
       "    </tr>\n",
       "    <tr>\n",
       "      <th>2025-01-20</th>\n",
       "      <td>1641.150024</td>\n",
       "      <td>1645.000000</td>\n",
       "      <td>1618.099976</td>\n",
       "      <td>1638.000000</td>\n",
       "      <td>3933044</td>\n",
       "    </tr>\n",
       "    <tr>\n",
       "      <th>2025-01-21</th>\n",
       "      <td>1626.150024</td>\n",
       "      <td>1656.699951</td>\n",
       "      <td>1620.300049</td>\n",
       "      <td>1654.000000</td>\n",
       "      <td>7958844</td>\n",
       "    </tr>\n",
       "    <tr>\n",
       "      <th>2025-01-22</th>\n",
       "      <td>1631.750000</td>\n",
       "      <td>1641.000000</td>\n",
       "      <td>1622.550049</td>\n",
       "      <td>1627.500000</td>\n",
       "      <td>3262136</td>\n",
       "    </tr>\n",
       "    <tr>\n",
       "      <th>2025-01-23</th>\n",
       "      <td>1636.000000</td>\n",
       "      <td>1645.400024</td>\n",
       "      <td>1617.199951</td>\n",
       "      <td>1624.500000</td>\n",
       "      <td>2457080</td>\n",
       "    </tr>\n",
       "    <tr>\n",
       "      <th>2025-01-24</th>\n",
       "      <td>1644.800049</td>\n",
       "      <td>1661.900024</td>\n",
       "      <td>1634.050049</td>\n",
       "      <td>1634.050049</td>\n",
       "      <td>3620058</td>\n",
       "    </tr>\n",
       "    <tr>\n",
       "      <th>2025-01-27</th>\n",
       "      <td>1602.599976</td>\n",
       "      <td>1647.199951</td>\n",
       "      <td>1593.699951</td>\n",
       "      <td>1638.949951</td>\n",
       "      <td>6622807</td>\n",
       "    </tr>\n",
       "    <tr>\n",
       "      <th>2025-01-28</th>\n",
       "      <td>1618.349976</td>\n",
       "      <td>1630.300049</td>\n",
       "      <td>1597.000000</td>\n",
       "      <td>1607.650024</td>\n",
       "      <td>5216471</td>\n",
       "    </tr>\n",
       "    <tr>\n",
       "      <th>2025-01-29</th>\n",
       "      <td>1600.449951</td>\n",
       "      <td>1626.900024</td>\n",
       "      <td>1593.150024</td>\n",
       "      <td>1620.000000</td>\n",
       "      <td>5009227</td>\n",
       "    </tr>\n",
       "    <tr>\n",
       "      <th>2025-01-30</th>\n",
       "      <td>1640.750000</td>\n",
       "      <td>1644.949951</td>\n",
       "      <td>1595.199951</td>\n",
       "      <td>1606.699951</td>\n",
       "      <td>4283637</td>\n",
       "    </tr>\n",
       "    <tr>\n",
       "      <th>2025-01-31</th>\n",
       "      <td>1626.300049</td>\n",
       "      <td>1639.099976</td>\n",
       "      <td>1574.250000</td>\n",
       "      <td>1639.099976</td>\n",
       "      <td>8340866</td>\n",
       "    </tr>\n",
       "    <tr>\n",
       "      <th>2025-02-03</th>\n",
       "      <td>1652.349976</td>\n",
       "      <td>1661.000000</td>\n",
       "      <td>1608.099976</td>\n",
       "      <td>1619.900024</td>\n",
       "      <td>4146970</td>\n",
       "    </tr>\n",
       "    <tr>\n",
       "      <th>2025-02-04</th>\n",
       "      <td>1661.449951</td>\n",
       "      <td>1668.300049</td>\n",
       "      <td>1629.050049</td>\n",
       "      <td>1662.150024</td>\n",
       "      <td>6385876</td>\n",
       "    </tr>\n",
       "    <tr>\n",
       "      <th>2025-02-05</th>\n",
       "      <td>1660.449951</td>\n",
       "      <td>1675.199951</td>\n",
       "      <td>1649.099976</td>\n",
       "      <td>1670.000000</td>\n",
       "      <td>3920893</td>\n",
       "    </tr>\n",
       "    <tr>\n",
       "      <th>2025-02-06</th>\n",
       "      <td>1619.750000</td>\n",
       "      <td>1667.300049</td>\n",
       "      <td>1613.250000</td>\n",
       "      <td>1665.900024</td>\n",
       "      <td>5229162</td>\n",
       "    </tr>\n",
       "    <tr>\n",
       "      <th>2025-02-07</th>\n",
       "      <td>1676.750000</td>\n",
       "      <td>1707.550049</td>\n",
       "      <td>1635.000000</td>\n",
       "      <td>1635.050049</td>\n",
       "      <td>14873255</td>\n",
       "    </tr>\n",
       "    <tr>\n",
       "      <th>2025-02-10</th>\n",
       "      <td>1693.050049</td>\n",
       "      <td>1700.000000</td>\n",
       "      <td>1678.050049</td>\n",
       "      <td>1698.849976</td>\n",
       "      <td>6782465</td>\n",
       "    </tr>\n",
       "  </tbody>\n",
       "</table>\n",
       "</div>"
      ],
      "text/plain": [
       "                  Close         High          Low         Open    Volume\n",
       "Date                                                                    \n",
       "2025-01-14  1600.099976  1633.400024  1578.500000  1604.699951   7284572\n",
       "2025-01-15  1607.449951  1613.849976  1593.000000  1608.050049   2960985\n",
       "2025-01-16  1630.199951  1635.000000  1600.550049  1619.050049   5299325\n",
       "2025-01-17  1627.500000  1639.000000  1623.000000  1630.099976   2678801\n",
       "2025-01-20  1641.150024  1645.000000  1618.099976  1638.000000   3933044\n",
       "2025-01-21  1626.150024  1656.699951  1620.300049  1654.000000   7958844\n",
       "2025-01-22  1631.750000  1641.000000  1622.550049  1627.500000   3262136\n",
       "2025-01-23  1636.000000  1645.400024  1617.199951  1624.500000   2457080\n",
       "2025-01-24  1644.800049  1661.900024  1634.050049  1634.050049   3620058\n",
       "2025-01-27  1602.599976  1647.199951  1593.699951  1638.949951   6622807\n",
       "2025-01-28  1618.349976  1630.300049  1597.000000  1607.650024   5216471\n",
       "2025-01-29  1600.449951  1626.900024  1593.150024  1620.000000   5009227\n",
       "2025-01-30  1640.750000  1644.949951  1595.199951  1606.699951   4283637\n",
       "2025-01-31  1626.300049  1639.099976  1574.250000  1639.099976   8340866\n",
       "2025-02-03  1652.349976  1661.000000  1608.099976  1619.900024   4146970\n",
       "2025-02-04  1661.449951  1668.300049  1629.050049  1662.150024   6385876\n",
       "2025-02-05  1660.449951  1675.199951  1649.099976  1670.000000   3920893\n",
       "2025-02-06  1619.750000  1667.300049  1613.250000  1665.900024   5229162\n",
       "2025-02-07  1676.750000  1707.550049  1635.000000  1635.050049  14873255\n",
       "2025-02-10  1693.050049  1700.000000  1678.050049  1698.849976   6782465"
      ]
     },
     "execution_count": 3,
     "metadata": {},
     "output_type": "execute_result"
    }
   ],
   "source": [
    "df.columns = ['_'.join(col).strip() for col in df.columns.values]\n",
    "df.columns = [col.split('_')[0] for col in df.columns]\n",
    "df"
   ]
  },
  {
   "cell_type": "code",
   "execution_count": 4,
   "metadata": {},
   "outputs": [
    {
     "data": {
      "text/plain": [
       "0        436.938934\n",
       "1        438.770386\n",
       "2        438.673981\n",
       "3        433.420685\n",
       "4        429.034882\n",
       "           ...     \n",
       "1262    1661.449951\n",
       "1263    1660.449951\n",
       "1264    1619.750000\n",
       "1265    1676.750000\n",
       "1266    1693.050049\n",
       "Name: close, Length: 1267, dtype: float64"
      ]
     },
     "execution_count": 4,
     "metadata": {},
     "output_type": "execute_result"
    }
   ],
   "source": [
    "df.columns = df.columns.str.strip()\n",
    "df.columns = df.columns.str.lower()\n",
    "df = df.reset_index()['close']\n",
    "df"
   ]
  },
  {
   "cell_type": "code",
   "execution_count": 5,
   "metadata": {},
   "outputs": [
    {
     "data": {
      "text/plain": [
       "np.float64(1693.050048828125)"
      ]
     },
     "execution_count": 5,
     "metadata": {},
     "output_type": "execute_result"
    }
   ],
   "source": [
    "df1 = pd.DataFrame(df).to_numpy()\n",
    "actual_value =df1[-1][0]\n",
    "actual_value"
   ]
  },
  {
   "cell_type": "code",
   "execution_count": 6,
   "metadata": {},
   "outputs": [
    {
     "data": {
      "text/plain": [
       "[<matplotlib.lines.Line2D at 0x17bdeb238f0>]"
      ]
     },
     "execution_count": 6,
     "metadata": {},
     "output_type": "execute_result"
    },
    {
     "data": {
      "image/png": "[encoded data removed]",
      "text/plain": [
       "<Figure size 640x480 with 1 Axes>"
      ]
     },
     "metadata": {},
     "output_type": "display_data"
    }
   ],
   "source": [
    "plt.plot(df)"
   ]
  },
  {
   "cell_type": "code",
   "execution_count": 7,
   "metadata": {},
   "outputs": [],
   "source": [
    "### LSTM are sensitive to the scale of the data. so we apply MinMax scaler\n",
    "scaler=MinMaxScaler (feature_range=(0,1))\n",
    "df=scaler.fit_transform(np.array(df).reshape(-1,1))"
   ]
  },
  {
   "cell_type": "code",
   "execution_count": 8,
   "metadata": {},
   "outputs": [
    {
     "data": {
      "text/plain": [
       "array([[0.03766404],\n",
       "       [0.03898507],\n",
       "       [0.03891554],\n",
       "       ...,\n",
       "       [0.89083063],\n",
       "       [0.93194497],\n",
       "       [0.94370226]])"
      ]
     },
     "execution_count": 8,
     "metadata": {},
     "output_type": "execute_result"
    }
   ],
   "source": [
    "df"
   ]
  },
  {
   "cell_type": "code",
   "execution_count": 9,
   "metadata": {},
   "outputs": [],
   "source": [
    "training_size=int(len(df)*0.8)\n",
    "test_size=len (df)-training_size\n",
    "train_data, test_data=df[0:training_size,:],df[training_size:len(df),:1]"
   ]
  },
  {
   "cell_type": "code",
   "execution_count": 10,
   "metadata": {},
   "outputs": [
    {
     "data": {
      "text/plain": [
       "(1013, 254)"
      ]
     },
     "execution_count": 10,
     "metadata": {},
     "output_type": "execute_result"
    }
   ],
   "source": [
    "training_size, test_size"
   ]
  },
  {
   "cell_type": "code",
   "execution_count": 11,
   "metadata": {},
   "outputs": [],
   "source": [
    "# creating 60(or whatever you decided) batches\n",
    "import numpy\n",
    "# convert an array of values into a dataset matrix\n",
    "def create_dataset (dataset, time_step=1):\n",
    "    dataX, dataY = [], []\n",
    "    for i in range(len(dataset)-time_step-1):\n",
    "        a = dataset[i:(i+time_step), 0] ###i=0, 0,1,2,3\n",
    "        dataX.append(a)\n",
    "        dataY.append(dataset[i + time_step, 0])\n",
    "    return numpy.array(dataX), numpy.array(dataY)"
   ]
  },
  {
   "cell_type": "code",
   "execution_count": 12,
   "metadata": {},
   "outputs": [],
   "source": [
    "# reshape into X=t,t+1, t+2, t+3 and Y=t+4\n",
    "time_step=60\n",
    "\n",
    "X_train, y_train = create_dataset (train_data, time_step)\n",
    "X_test, y_test = create_dataset (test_data, time_step)"
   ]
  },
  {
   "cell_type": "code",
   "execution_count": 13,
   "metadata": {},
   "outputs": [
    {
     "data": {
      "text/plain": [
       "(952, 60)"
      ]
     },
     "execution_count": 13,
     "metadata": {},
     "output_type": "execute_result"
    }
   ],
   "source": [
    "X_train.shape"
   ]
  },
  {
   "cell_type": "code",
   "execution_count": 13,
   "metadata": {},
   "outputs": [],
   "source": [
    "# reshape input to be [samples, time steps, features] which is required for LSTM\n",
    "X_train =X_train.reshape(X_train.shape[0],X_train.shape[1],1)\n",
    "X_test = X_test.reshape(X_test.shape[0],X_test.shape[1], 1)"
   ]
  },
  {
   "cell_type": "code",
   "execution_count": null,
   "metadata": {},
   "outputs": [],
   "source": [
    "model=Sequential()\n",
    "model.add(LSTM(256, return_sequences=True, input_shape=(time_step,1)))\n",
    "model.add(LSTM(512, return_sequences=True))\n",
    "model.add(LSTM(64))\n",
    "model.add(Dense(1))\n",
    "model.compile(loss='mean_squared_error', optimizer='adam')"
   ]
  },
  {
   "cell_type": "code",
   "execution_count": 18,
   "metadata": {},
   "outputs": [
    {
     "data": {
      "text/html": [
       "<pre style=\"white-space:pre;overflow-x:auto;line-height:normal;font-family:Menlo,'DejaVu Sans Mono',consolas,'Courier New',monospace\"><span style=\"font-weight: bold\">Model: \"sequential_1\"</span>\n",
       "</pre>\n"
      ],
      "text/plain": [
       "\u001b[1mModel: \"sequential_1\"\u001b[0m\n"
      ]
     },
     "metadata": {},
     "output_type": "display_data"
    },
    {
     "data": {
      "text/html": [
       "<pre style=\"white-space:pre;overflow-x:auto;line-height:normal;font-family:Menlo,'DejaVu Sans Mono',consolas,'Courier New',monospace\">┏━━━━━━━━━━━━━━━━━━━━━━━━━━━━━━━━━┳━━━━━━━━━━━━━━━━━━━━━━━━┳━━━━━━━━━━━━━━━┓\n",
       "┃<span style=\"font-weight: bold\"> Layer (type)                    </span>┃<span style=\"font-weight: bold\"> Output Shape           </span>┃<span style=\"font-weight: bold\">       Param # </span>┃\n",
       "┡━━━━━━━━━━━━━━━━━━━━━━━━━━━━━━━━━╇━━━━━━━━━━━━━━━━━━━━━━━━╇━━━━━━━━━━━━━━━┩\n",
       "│ lstm_3 (<span style=\"color: #0087ff; text-decoration-color: #0087ff\">LSTM</span>)                   │ (<span style=\"color: #00d7ff; text-decoration-color: #00d7ff\">None</span>, <span style=\"color: #00af00; text-decoration-color: #00af00\">60</span>, <span style=\"color: #00af00; text-decoration-color: #00af00\">256</span>)        │       <span style=\"color: #00af00; text-decoration-color: #00af00\">264,192</span> │\n",
       "├─────────────────────────────────┼────────────────────────┼───────────────┤\n",
       "│ lstm_4 (<span style=\"color: #0087ff; text-decoration-color: #0087ff\">LSTM</span>)                   │ (<span style=\"color: #00d7ff; text-decoration-color: #00d7ff\">None</span>, <span style=\"color: #00af00; text-decoration-color: #00af00\">60</span>, <span style=\"color: #00af00; text-decoration-color: #00af00\">512</span>)        │     <span style=\"color: #00af00; text-decoration-color: #00af00\">1,574,912</span> │\n",
       "├─────────────────────────────────┼────────────────────────┼───────────────┤\n",
       "│ lstm_5 (<span style=\"color: #0087ff; text-decoration-color: #0087ff\">LSTM</span>)                   │ (<span style=\"color: #00d7ff; text-decoration-color: #00d7ff\">None</span>, <span style=\"color: #00af00; text-decoration-color: #00af00\">64</span>)             │       <span style=\"color: #00af00; text-decoration-color: #00af00\">147,712</span> │\n",
       "├─────────────────────────────────┼────────────────────────┼───────────────┤\n",
       "│ dense_1 (<span style=\"color: #0087ff; text-decoration-color: #0087ff\">Dense</span>)                 │ (<span style=\"color: #00d7ff; text-decoration-color: #00d7ff\">None</span>, <span style=\"color: #00af00; text-decoration-color: #00af00\">1</span>)              │            <span style=\"color: #00af00; text-decoration-color: #00af00\">65</span> │\n",
       "└─────────────────────────────────┴────────────────────────┴───────────────┘\n",
       "</pre>\n"
      ],
      "text/plain": [
       "┏━━━━━━━━━━━━━━━━━━━━━━━━━━━━━━━━━┳━━━━━━━━━━━━━━━━━━━━━━━━┳━━━━━━━━━━━━━━━┓\n",
       "┃\u001b[1m \u001b[0m\u001b[1mLayer (type)                   \u001b[0m\u001b[1m \u001b[0m┃\u001b[1m \u001b[0m\u001b[1mOutput Shape          \u001b[0m\u001b[1m \u001b[0m┃\u001b[1m \u001b[0m\u001b[1m      Param #\u001b[0m\u001b[1m \u001b[0m┃\n",
       "┡━━━━━━━━━━━━━━━━━━━━━━━━━━━━━━━━━╇━━━━━━━━━━━━━━━━━━━━━━━━╇━━━━━━━━━━━━━━━┩\n",
       "│ lstm_3 (\u001b[38;5;33mLSTM\u001b[0m)                   │ (\u001b[38;5;45mNone\u001b[0m, \u001b[38;5;34m60\u001b[0m, \u001b[38;5;34m256\u001b[0m)        │       \u001b[38;5;34m264,192\u001b[0m │\n",
       "├─────────────────────────────────┼────────────────────────┼───────────────┤\n",
       "│ lstm_4 (\u001b[38;5;33mLSTM\u001b[0m)                   │ (\u001b[38;5;45mNone\u001b[0m, \u001b[38;5;34m60\u001b[0m, \u001b[38;5;34m512\u001b[0m)        │     \u001b[38;5;34m1,574,912\u001b[0m │\n",
       "├─────────────────────────────────┼────────────────────────┼───────────────┤\n",
       "│ lstm_5 (\u001b[38;5;33mLSTM\u001b[0m)                   │ (\u001b[38;5;45mNone\u001b[0m, \u001b[38;5;34m64\u001b[0m)             │       \u001b[38;5;34m147,712\u001b[0m │\n",
       "├─────────────────────────────────┼────────────────────────┼───────────────┤\n",
       "│ dense_1 (\u001b[38;5;33mDense\u001b[0m)                 │ (\u001b[38;5;45mNone\u001b[0m, \u001b[38;5;34m1\u001b[0m)              │            \u001b[38;5;34m65\u001b[0m │\n",
       "└─────────────────────────────────┴────────────────────────┴───────────────┘\n"
      ]
     },
     "metadata": {},
     "output_type": "display_data"
    },
    {
     "data": {
      "text/html": [
       "<pre style=\"white-space:pre;overflow-x:auto;line-height:normal;font-family:Menlo,'DejaVu Sans Mono',consolas,'Courier New',monospace\"><span style=\"font-weight: bold\"> Total params: </span><span style=\"color: #00af00; text-decoration-color: #00af00\">1,986,881</span> (7.58 MB)\n",
       "</pre>\n"
      ],
      "text/plain": [
       "\u001b[1m Total params: \u001b[0m\u001b[38;5;34m1,986,881\u001b[0m (7.58 MB)\n"
      ]
     },
     "metadata": {},
     "output_type": "display_data"
    },
    {
     "data": {
      "text/html": [
       "<pre style=\"white-space:pre;overflow-x:auto;line-height:normal;font-family:Menlo,'DejaVu Sans Mono',consolas,'Courier New',monospace\"><span style=\"font-weight: bold\"> Trainable params: </span><span style=\"color: #00af00; text-decoration-color: #00af00\">1,986,881</span> (7.58 MB)\n",
       "</pre>\n"
      ],
      "text/plain": [
       "\u001b[1m Trainable params: \u001b[0m\u001b[38;5;34m1,986,881\u001b[0m (7.58 MB)\n"
      ]
     },
     "metadata": {},
     "output_type": "display_data"
    },
    {
     "data": {
      "text/html": [
       "<pre style=\"white-space:pre;overflow-x:auto;line-height:normal;font-family:Menlo,'DejaVu Sans Mono',consolas,'Courier New',monospace\"><span style=\"font-weight: bold\"> Non-trainable params: </span><span style=\"color: #00af00; text-decoration-color: #00af00\">0</span> (0.00 B)\n",
       "</pre>\n"
      ],
      "text/plain": [
       "\u001b[1m Non-trainable params: \u001b[0m\u001b[38;5;34m0\u001b[0m (0.00 B)\n"
      ]
     },
     "metadata": {},
     "output_type": "display_data"
    }
   ],
   "source": [
    "model.summary()"
   ]
  },
  {
   "cell_type": "code",
   "execution_count": null,
   "metadata": {},
   "outputs": [],
   "source": [
    "model.fit(X_train,y_train, validation_data=(X_test,y_test), epochs=100, batch_size=64, verbose=1)"
   ]
  },
  {
   "cell_type": "code",
   "execution_count": 16,
   "metadata": {},
   "outputs": [],
   "source": [
    "from keras.models import load_model"
   ]
  },
  {
   "cell_type": "code",
   "execution_count": null,
   "metadata": {},
   "outputs": [],
   "source": [
    "model.save('Airtel_Pred_model.h5')"
   ]
  },
  {
   "cell_type": "code",
   "execution_count": 19,
   "metadata": {},
   "outputs": [
    {
     "name": "stderr",
     "output_type": "stream",
     "text": [
      "WARNING:absl:Compiled the loaded model, but the compiled metrics have yet to be built. `model.compile_metrics` will be empty until you train or evaluate the model.\n"
     ]
    }
   ],
   "source": [
    "model = load_model('Model/Airtel_Pred_model.h5')"
   ]
  },
  {
   "cell_type": "code",
   "execution_count": 20,
   "metadata": {},
   "outputs": [
    {
     "name": "stdout",
     "output_type": "stream",
     "text": [
      "\u001b[1m30/30\u001b[0m \u001b[32m━━━━━━━━━━━━━━━━━━━━\u001b[0m\u001b[37m\u001b[0m \u001b[1m4s\u001b[0m 109ms/step\n",
      "\u001b[1m7/7\u001b[0m \u001b[32m━━━━━━━━━━━━━━━━━━━━\u001b[0m\u001b[37m\u001b[0m \u001b[1m1s\u001b[0m 86ms/step\n"
     ]
    }
   ],
   "source": [
    "import tensorflow as tf\n",
    "### Lets Do the prediction and check performance metrics\n",
    "train_predict=model.predict(X_train)\n",
    "test_predict=model.predict(X_test)\n",
    "##Transformback to original form\n",
    "train_predict=scaler.inverse_transform(train_predict)\n",
    "test_predict=scaler.inverse_transform(test_predict)\n"
   ]
  },
  {
   "cell_type": "code",
   "execution_count": 21,
   "metadata": {},
   "outputs": [
    {
     "data": {
      "text/plain": [
       "694.2819068739482"
      ]
     },
     "execution_count": 21,
     "metadata": {},
     "output_type": "execute_result"
    }
   ],
   "source": [
    "### Calculate RMSE performance metrics\n",
    "import math\n",
    "from sklearn.metrics import mean_squared_error\n",
    "math.sqrt(mean_squared_error(y_train, train_predict))"
   ]
  },
  {
   "cell_type": "code",
   "execution_count": 22,
   "metadata": {},
   "outputs": [
    {
     "data": {
      "text/plain": [
       "1534.6123925179363"
      ]
     },
     "execution_count": 22,
     "metadata": {},
     "output_type": "execute_result"
    }
   ],
   "source": [
    "math.sqrt(mean_squared_error(y_test, test_predict))"
   ]
  },
  {
   "cell_type": "code",
   "execution_count": 23,
   "metadata": {},
   "outputs": [
    {
     "data": {
      "image/png": "[encoded data removed]",
      "text/plain": [
       "<Figure size 640x480 with 1 Axes>"
      ]
     },
     "metadata": {},
     "output_type": "display_data"
    }
   ],
   "source": [
    "### Plotting\n",
    "# shift train predictions for plotting\n",
    "look_back=time_step\n",
    "trainPredictPlot = numpy.empty_like(df)\n",
    "trainPredictPlot[:, :] = np.nan\n",
    "trainPredictPlot [look_back: len(train_predict) +look_back, :] = train_predict\n",
    "# shift test predictions for plotting\n",
    "testPredictPlot = numpy.empty_like(df)\n",
    "testPredictPlot[:, :] = numpy.nan\n",
    "testPredictPlot[len(train_predict)+(look_back*2)+1:len(df)-1, :] = test_predict\n",
    "# plot baseline and predictions\n",
    "plt.plot(scaler.inverse_transform(df))\n",
    "# plt.plot(trainPredictPlot)\n",
    "plt.plot(testPredictPlot)\n",
    "plt.show()"
   ]
  },
  {
   "cell_type": "code",
   "execution_count": null,
   "metadata": {},
   "outputs": [],
   "source": []
  }
 ],
 "metadata": {
  "kernelspec": {
   "display_name": ".env",
   "language": "python",
   "name": "python3"
  },
  "language_info": {
   "codemirror_mode": {
    "name": "ipython",
    "version": 3
   },
   "file_extension": ".py",
   "mimetype": "text/x-python",
   "name": "python",
   "nbconvert_exporter": "python",
   "pygments_lexer": "ipython3",
   "version": "3.10.11"
  }
 },
 "nbformat": 4,
 "nbformat_minor": 2
}
