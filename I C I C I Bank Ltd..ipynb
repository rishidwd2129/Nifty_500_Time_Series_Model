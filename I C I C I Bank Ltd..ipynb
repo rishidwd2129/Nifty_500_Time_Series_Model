{
 "cells": [
  {
   "cell_type": "code",
   "execution_count": 1,
   "metadata": {},
   "outputs": [],
   "source": [
    "# import yfinance as yf\n",
    "import time\n",
    "# import pandas_datareader as web\n",
    "import numpy as np\n",
    "import pandas as pd\n",
    "from sklearn.preprocessing import MinMaxScaler\n",
    "from keras.models import Sequential\n",
    "from keras.layers import Dense, LSTM\n",
    "import matplotlib.pyplot as plt\n",
    "import pandas as pd\n",
    "import yfinance as yf"
   ]
  },
  {
   "cell_type": "code",
   "execution_count": 2,
   "metadata": {},
   "outputs": [
    {
     "name": "stderr",
     "output_type": "stream",
     "text": [
      "[*********************100%***********************]  1 of 1 completed\n"
     ]
    },
    {
     "data": {
      "text/html": [
       "<div>\n",
       "<style scoped>\n",
       "    .dataframe tbody tr th:only-of-type {\n",
       "        vertical-align: middle;\n",
       "    }\n",
       "\n",
       "    .dataframe tbody tr th {\n",
       "        vertical-align: top;\n",
       "    }\n",
       "\n",
       "    .dataframe thead tr th {\n",
       "        text-align: left;\n",
       "    }\n",
       "\n",
       "    .dataframe thead tr:last-of-type th {\n",
       "        text-align: right;\n",
       "    }\n",
       "</style>\n",
       "<table border=\"1\" class=\"dataframe\">\n",
       "  <thead>\n",
       "    <tr>\n",
       "      <th>Price</th>\n",
       "      <th>Close</th>\n",
       "      <th>High</th>\n",
       "      <th>Low</th>\n",
       "      <th>Open</th>\n",
       "      <th>Volume</th>\n",
       "    </tr>\n",
       "    <tr>\n",
       "      <th>Ticker</th>\n",
       "      <th>ICICIBANK.NS</th>\n",
       "      <th>ICICIBANK.NS</th>\n",
       "      <th>ICICIBANK.NS</th>\n",
       "      <th>ICICIBANK.NS</th>\n",
       "      <th>ICICIBANK.NS</th>\n",
       "    </tr>\n",
       "    <tr>\n",
       "      <th>Date</th>\n",
       "      <th></th>\n",
       "      <th></th>\n",
       "      <th></th>\n",
       "      <th></th>\n",
       "      <th></th>\n",
       "    </tr>\n",
       "  </thead>\n",
       "  <tbody>\n",
       "    <tr>\n",
       "      <th>2020-01-01</th>\n",
       "      <td>518.854004</td>\n",
       "      <td>524.412291</td>\n",
       "      <td>517.839024</td>\n",
       "      <td>521.899002</td>\n",
       "      <td>7642793</td>\n",
       "    </tr>\n",
       "    <tr>\n",
       "      <th>2020-01-02</th>\n",
       "      <td>522.575623</td>\n",
       "      <td>523.832326</td>\n",
       "      <td>517.983994</td>\n",
       "      <td>518.129017</td>\n",
       "      <td>10264223</td>\n",
       "    </tr>\n",
       "    <tr>\n",
       "      <th>2020-01-03</th>\n",
       "      <td>520.884033</td>\n",
       "      <td>522.769030</td>\n",
       "      <td>518.370744</td>\n",
       "      <td>520.062397</td>\n",
       "      <td>9594690</td>\n",
       "    </tr>\n",
       "    <tr>\n",
       "      <th>2020-01-06</th>\n",
       "      <td>508.172424</td>\n",
       "      <td>519.337319</td>\n",
       "      <td>506.335749</td>\n",
       "      <td>519.337319</td>\n",
       "      <td>12534334</td>\n",
       "    </tr>\n",
       "    <tr>\n",
       "      <th>2020-01-07</th>\n",
       "      <td>505.465790</td>\n",
       "      <td>517.742306</td>\n",
       "      <td>504.257467</td>\n",
       "      <td>513.585686</td>\n",
       "      <td>16101835</td>\n",
       "    </tr>\n",
       "    <tr>\n",
       "      <th>...</th>\n",
       "      <td>...</td>\n",
       "      <td>...</td>\n",
       "      <td>...</td>\n",
       "      <td>...</td>\n",
       "      <td>...</td>\n",
       "    </tr>\n",
       "    <tr>\n",
       "      <th>2025-02-10</th>\n",
       "      <td>1262.599976</td>\n",
       "      <td>1265.000000</td>\n",
       "      <td>1249.349976</td>\n",
       "      <td>1257.199951</td>\n",
       "      <td>5740361</td>\n",
       "    </tr>\n",
       "    <tr>\n",
       "      <th>2025-02-11</th>\n",
       "      <td>1252.750000</td>\n",
       "      <td>1261.849976</td>\n",
       "      <td>1248.400024</td>\n",
       "      <td>1255.849976</td>\n",
       "      <td>6586627</td>\n",
       "    </tr>\n",
       "    <tr>\n",
       "      <th>2025-02-12</th>\n",
       "      <td>1251.800049</td>\n",
       "      <td>1269.750000</td>\n",
       "      <td>1244.650024</td>\n",
       "      <td>1257.199951</td>\n",
       "      <td>8809352</td>\n",
       "    </tr>\n",
       "    <tr>\n",
       "      <th>2025-02-13</th>\n",
       "      <td>1248.900024</td>\n",
       "      <td>1266.000000</td>\n",
       "      <td>1245.900024</td>\n",
       "      <td>1252.550049</td>\n",
       "      <td>7263785</td>\n",
       "    </tr>\n",
       "    <tr>\n",
       "      <th>2025-02-14</th>\n",
       "      <td>1260.099976</td>\n",
       "      <td>1263.500000</td>\n",
       "      <td>1244.449951</td>\n",
       "      <td>1252.099976</td>\n",
       "      <td>10368438</td>\n",
       "    </tr>\n",
       "  </tbody>\n",
       "</table>\n",
       "<p>1272 rows × 5 columns</p>\n",
       "</div>"
      ],
      "text/plain": [
       "Price             Close         High          Low         Open       Volume\n",
       "Ticker     ICICIBANK.NS ICICIBANK.NS ICICIBANK.NS ICICIBANK.NS ICICIBANK.NS\n",
       "Date                                                                       \n",
       "2020-01-01   518.854004   524.412291   517.839024   521.899002      7642793\n",
       "2020-01-02   522.575623   523.832326   517.983994   518.129017     10264223\n",
       "2020-01-03   520.884033   522.769030   518.370744   520.062397      9594690\n",
       "2020-01-06   508.172424   519.337319   506.335749   519.337319     12534334\n",
       "2020-01-07   505.465790   517.742306   504.257467   513.585686     16101835\n",
       "...                 ...          ...          ...          ...          ...\n",
       "2025-02-10  1262.599976  1265.000000  1249.349976  1257.199951      5740361\n",
       "2025-02-11  1252.750000  1261.849976  1248.400024  1255.849976      6586627\n",
       "2025-02-12  1251.800049  1269.750000  1244.650024  1257.199951      8809352\n",
       "2025-02-13  1248.900024  1266.000000  1245.900024  1252.550049      7263785\n",
       "2025-02-14  1260.099976  1263.500000  1244.449951  1252.099976     10368438\n",
       "\n",
       "[1272 rows x 5 columns]"
      ]
     },
     "execution_count": 2,
     "metadata": {},
     "output_type": "execute_result"
    }
   ],
   "source": [
    "df = yf.download('ICICIBANK.NS', start = '2020-01-01')\n",
    "df\n"
   ]
  },
  {
   "cell_type": "code",
   "execution_count": 4,
   "metadata": {},
   "outputs": [
    {
     "data": {
      "text/html": [
       "<div>\n",
       "<style scoped>\n",
       "    .dataframe tbody tr th:only-of-type {\n",
       "        vertical-align: middle;\n",
       "    }\n",
       "\n",
       "    .dataframe tbody tr th {\n",
       "        vertical-align: top;\n",
       "    }\n",
       "\n",
       "    .dataframe thead th {\n",
       "        text-align: right;\n",
       "    }\n",
       "</style>\n",
       "<table border=\"1\" class=\"dataframe\">\n",
       "  <thead>\n",
       "    <tr style=\"text-align: right;\">\n",
       "      <th></th>\n",
       "      <th>Close</th>\n",
       "      <th>High</th>\n",
       "      <th>Low</th>\n",
       "      <th>Open</th>\n",
       "      <th>Volume</th>\n",
       "    </tr>\n",
       "    <tr>\n",
       "      <th>Date</th>\n",
       "      <th></th>\n",
       "      <th></th>\n",
       "      <th></th>\n",
       "      <th></th>\n",
       "      <th></th>\n",
       "    </tr>\n",
       "  </thead>\n",
       "  <tbody>\n",
       "    <tr>\n",
       "      <th>2025-01-15</th>\n",
       "      <td>1238.250000</td>\n",
       "      <td>1244.400024</td>\n",
       "      <td>1230.000000</td>\n",
       "      <td>1234.000000</td>\n",
       "      <td>5355382</td>\n",
       "    </tr>\n",
       "    <tr>\n",
       "      <th>2025-01-16</th>\n",
       "      <td>1249.099976</td>\n",
       "      <td>1255.500000</td>\n",
       "      <td>1239.650024</td>\n",
       "      <td>1245.099976</td>\n",
       "      <td>11895924</td>\n",
       "    </tr>\n",
       "    <tr>\n",
       "      <th>2025-01-17</th>\n",
       "      <td>1225.449951</td>\n",
       "      <td>1249.000000</td>\n",
       "      <td>1218.000000</td>\n",
       "      <td>1243.349976</td>\n",
       "      <td>9790533</td>\n",
       "    </tr>\n",
       "    <tr>\n",
       "      <th>2025-01-20</th>\n",
       "      <td>1232.949951</td>\n",
       "      <td>1241.750000</td>\n",
       "      <td>1215.250000</td>\n",
       "      <td>1223.900024</td>\n",
       "      <td>7676418</td>\n",
       "    </tr>\n",
       "    <tr>\n",
       "      <th>2025-01-21</th>\n",
       "      <td>1196.150024</td>\n",
       "      <td>1238.949951</td>\n",
       "      <td>1192.699951</td>\n",
       "      <td>1236.949951</td>\n",
       "      <td>20520898</td>\n",
       "    </tr>\n",
       "    <tr>\n",
       "      <th>2025-01-22</th>\n",
       "      <td>1200.449951</td>\n",
       "      <td>1207.500000</td>\n",
       "      <td>1191.800049</td>\n",
       "      <td>1201.000000</td>\n",
       "      <td>10377123</td>\n",
       "    </tr>\n",
       "    <tr>\n",
       "      <th>2025-01-23</th>\n",
       "      <td>1201.750000</td>\n",
       "      <td>1207.900024</td>\n",
       "      <td>1186.000000</td>\n",
       "      <td>1197.250000</td>\n",
       "      <td>8770650</td>\n",
       "    </tr>\n",
       "    <tr>\n",
       "      <th>2025-01-24</th>\n",
       "      <td>1209.199951</td>\n",
       "      <td>1218.000000</td>\n",
       "      <td>1202.000000</td>\n",
       "      <td>1203.099976</td>\n",
       "      <td>9216792</td>\n",
       "    </tr>\n",
       "    <tr>\n",
       "      <th>2025-01-27</th>\n",
       "      <td>1227.949951</td>\n",
       "      <td>1234.650024</td>\n",
       "      <td>1193.099976</td>\n",
       "      <td>1195.000000</td>\n",
       "      <td>16164687</td>\n",
       "    </tr>\n",
       "    <tr>\n",
       "      <th>2025-01-28</th>\n",
       "      <td>1246.900024</td>\n",
       "      <td>1264.000000</td>\n",
       "      <td>1236.000000</td>\n",
       "      <td>1247.349976</td>\n",
       "      <td>18066499</td>\n",
       "    </tr>\n",
       "    <tr>\n",
       "      <th>2025-01-29</th>\n",
       "      <td>1251.650024</td>\n",
       "      <td>1255.800049</td>\n",
       "      <td>1243.050049</td>\n",
       "      <td>1252.000000</td>\n",
       "      <td>7666777</td>\n",
       "    </tr>\n",
       "    <tr>\n",
       "      <th>2025-01-30</th>\n",
       "      <td>1255.599976</td>\n",
       "      <td>1259.849976</td>\n",
       "      <td>1239.500000</td>\n",
       "      <td>1250.000000</td>\n",
       "      <td>11921041</td>\n",
       "    </tr>\n",
       "    <tr>\n",
       "      <th>2025-01-31</th>\n",
       "      <td>1252.800049</td>\n",
       "      <td>1256.000000</td>\n",
       "      <td>1239.099976</td>\n",
       "      <td>1254.500000</td>\n",
       "      <td>10195417</td>\n",
       "    </tr>\n",
       "    <tr>\n",
       "      <th>2025-02-01</th>\n",
       "      <td>1255.550049</td>\n",
       "      <td>1261.349976</td>\n",
       "      <td>1233.800049</td>\n",
       "      <td>1251.150024</td>\n",
       "      <td>3011914</td>\n",
       "    </tr>\n",
       "    <tr>\n",
       "      <th>2025-02-03</th>\n",
       "      <td>1253.000000</td>\n",
       "      <td>1260.000000</td>\n",
       "      <td>1237.800049</td>\n",
       "      <td>1246.849976</td>\n",
       "      <td>6176831</td>\n",
       "    </tr>\n",
       "    <tr>\n",
       "      <th>2025-02-04</th>\n",
       "      <td>1268.199951</td>\n",
       "      <td>1280.500000</td>\n",
       "      <td>1260.000000</td>\n",
       "      <td>1262.800049</td>\n",
       "      <td>14839077</td>\n",
       "    </tr>\n",
       "    <tr>\n",
       "      <th>2025-02-05</th>\n",
       "      <td>1267.699951</td>\n",
       "      <td>1277.750000</td>\n",
       "      <td>1265.150024</td>\n",
       "      <td>1270.199951</td>\n",
       "      <td>6840709</td>\n",
       "    </tr>\n",
       "    <tr>\n",
       "      <th>2025-02-06</th>\n",
       "      <td>1272.400024</td>\n",
       "      <td>1279.000000</td>\n",
       "      <td>1263.199951</td>\n",
       "      <td>1275.000000</td>\n",
       "      <td>8396554</td>\n",
       "    </tr>\n",
       "    <tr>\n",
       "      <th>2025-02-07</th>\n",
       "      <td>1256.900024</td>\n",
       "      <td>1275.000000</td>\n",
       "      <td>1249.550049</td>\n",
       "      <td>1272.000000</td>\n",
       "      <td>7382039</td>\n",
       "    </tr>\n",
       "    <tr>\n",
       "      <th>2025-02-10</th>\n",
       "      <td>1253.750000</td>\n",
       "      <td>1262.449951</td>\n",
       "      <td>1249.349976</td>\n",
       "      <td>1257.199951</td>\n",
       "      <td>1597784</td>\n",
       "    </tr>\n",
       "  </tbody>\n",
       "</table>\n",
       "</div>"
      ],
      "text/plain": [
       "                  Close         High          Low         Open    Volume\n",
       "Date                                                                    \n",
       "2025-01-15  1238.250000  1244.400024  1230.000000  1234.000000   5355382\n",
       "2025-01-16  1249.099976  1255.500000  1239.650024  1245.099976  11895924\n",
       "2025-01-17  1225.449951  1249.000000  1218.000000  1243.349976   9790533\n",
       "2025-01-20  1232.949951  1241.750000  1215.250000  1223.900024   7676418\n",
       "2025-01-21  1196.150024  1238.949951  1192.699951  1236.949951  20520898\n",
       "2025-01-22  1200.449951  1207.500000  1191.800049  1201.000000  10377123\n",
       "2025-01-23  1201.750000  1207.900024  1186.000000  1197.250000   8770650\n",
       "2025-01-24  1209.199951  1218.000000  1202.000000  1203.099976   9216792\n",
       "2025-01-27  1227.949951  1234.650024  1193.099976  1195.000000  16164687\n",
       "2025-01-28  1246.900024  1264.000000  1236.000000  1247.349976  18066499\n",
       "2025-01-29  1251.650024  1255.800049  1243.050049  1252.000000   7666777\n",
       "2025-01-30  1255.599976  1259.849976  1239.500000  1250.000000  11921041\n",
       "2025-01-31  1252.800049  1256.000000  1239.099976  1254.500000  10195417\n",
       "2025-02-01  1255.550049  1261.349976  1233.800049  1251.150024   3011914\n",
       "2025-02-03  1253.000000  1260.000000  1237.800049  1246.849976   6176831\n",
       "2025-02-04  1268.199951  1280.500000  1260.000000  1262.800049  14839077\n",
       "2025-02-05  1267.699951  1277.750000  1265.150024  1270.199951   6840709\n",
       "2025-02-06  1272.400024  1279.000000  1263.199951  1275.000000   8396554\n",
       "2025-02-07  1256.900024  1275.000000  1249.550049  1272.000000   7382039\n",
       "2025-02-10  1253.750000  1262.449951  1249.349976  1257.199951   1597784"
      ]
     },
     "execution_count": 4,
     "metadata": {},
     "output_type": "execute_result"
    }
   ],
   "source": [
    "df.columns = ['_'.join(col).strip() for col in df.columns.values]\n",
    "df.columns = [col.split('_')[0] for col in df.columns]\n",
    "df.tail(20)"
   ]
  },
  {
   "cell_type": "code",
   "execution_count": 5,
   "metadata": {},
   "outputs": [
    {
     "data": {
      "text/plain": [
       "0        518.854004\n",
       "1        522.575623\n",
       "2        520.884033\n",
       "3        508.172394\n",
       "4        505.465851\n",
       "           ...     \n",
       "1263    1268.199951\n",
       "1264    1267.699951\n",
       "1265    1272.400024\n",
       "1266    1256.900024\n",
       "1267    1253.750000\n",
       "Name: close, Length: 1268, dtype: float64"
      ]
     },
     "execution_count": 5,
     "metadata": {},
     "output_type": "execute_result"
    }
   ],
   "source": [
    "df.columns = df.columns.str.strip()\n",
    "df.columns = df.columns.str.lower()\n",
    "df = df.reset_index()['close']\n",
    "df"
   ]
  },
  {
   "cell_type": "code",
   "execution_count": 6,
   "metadata": {},
   "outputs": [
    {
     "data": {
      "text/plain": [
       "np.float64(1253.75)"
      ]
     },
     "execution_count": 6,
     "metadata": {},
     "output_type": "execute_result"
    }
   ],
   "source": [
    "df1 = pd.DataFrame(df).to_numpy()\n",
    "actual_value =df1[-1][0]\n",
    "actual_value"
   ]
  },
  {
   "cell_type": "code",
   "execution_count": 7,
   "metadata": {},
   "outputs": [
    {
     "data": {
      "text/plain": [
       "[<matplotlib.lines.Line2D at 0x150dada3b30>]"
      ]
     },
     "execution_count": 7,
     "metadata": {},
     "output_type": "execute_result"
    },
    {
     "data": {
      "image/png": "[encoded data removed]",
      "text/plain": [
       "<Figure size 640x480 with 1 Axes>"
      ]
     },
     "metadata": {},
     "output_type": "display_data"
    }
   ],
   "source": [
    "plt.plot(df)"
   ]
  },
  {
   "cell_type": "code",
   "execution_count": 8,
   "metadata": {},
   "outputs": [],
   "source": [
    "### LSTM are sensitive to the scale of the data. so we apply MinMax scaler\n",
    "scaler=MinMaxScaler (feature_range=(0,1))\n",
    "df=scaler.fit_transform(np.array(df).reshape(-1,1))"
   ]
  },
  {
   "cell_type": "code",
   "execution_count": 9,
   "metadata": {},
   "outputs": [
    {
     "data": {
      "text/plain": [
       "array([[0.22800488],\n",
       "       [0.23147793],\n",
       "       [0.22989932],\n",
       "       ...,\n",
       "       [0.93122239],\n",
       "       [0.91675762],\n",
       "       [0.91381798]])"
      ]
     },
     "execution_count": 9,
     "metadata": {},
     "output_type": "execute_result"
    }
   ],
   "source": [
    "df"
   ]
  },
  {
   "cell_type": "code",
   "execution_count": 10,
   "metadata": {},
   "outputs": [],
   "source": [
    "training_size=int(len(df)*0.8)\n",
    "test_size=len (df)-training_size\n",
    "train_data, test_data=df[0:training_size,:],df[training_size:len(df),:1]"
   ]
  },
  {
   "cell_type": "code",
   "execution_count": 11,
   "metadata": {},
   "outputs": [
    {
     "data": {
      "text/plain": [
       "(1014, 254)"
      ]
     },
     "execution_count": 11,
     "metadata": {},
     "output_type": "execute_result"
    }
   ],
   "source": [
    "training_size, test_size"
   ]
  },
  {
   "cell_type": "code",
   "execution_count": 12,
   "metadata": {},
   "outputs": [],
   "source": [
    "# creating 60(or whatever you decided) batches\n",
    "import numpy\n",
    "# convert an array of values into a dataset matrix\n",
    "def create_dataset (dataset, time_step=1):\n",
    "    dataX, dataY = [], []\n",
    "    for i in range(len(dataset)-time_step-1):\n",
    "        a = dataset[i:(i+time_step), 0] ###i=0, 0,1,2,3\n",
    "        dataX.append(a)\n",
    "        dataY.append(dataset[i + time_step, 0])\n",
    "    return numpy.array(dataX), numpy.array(dataY)"
   ]
  },
  {
   "cell_type": "code",
   "execution_count": 13,
   "metadata": {},
   "outputs": [],
   "source": [
    "# reshape into X=t,t+1, t+2, t+3 and Y=t+4\n",
    "time_step=60\n",
    "\n",
    "X_train, y_train = create_dataset (train_data, time_step)\n",
    "X_test, y_test = create_dataset (test_data, time_step)"
   ]
  },
  {
   "cell_type": "code",
   "execution_count": 14,
   "metadata": {},
   "outputs": [],
   "source": [
    "# reshape input to be [samples, time steps, features] which is required for LSTM\n",
    "X_train =X_train.reshape(X_train.shape[0],X_train.shape[1],1)\n",
    "X_test = X_test.reshape(X_test.shape[0],X_test.shape[1], 1)"
   ]
  },
  {
   "cell_type": "code",
   "execution_count": 15,
   "metadata": {},
   "outputs": [
    {
     "name": "stderr",
     "output_type": "stream",
     "text": [
      "d:\\work\\Anunay\\MBA_Project\\.env\\Lib\\site-packages\\keras\\src\\layers\\rnn\\rnn.py:200: UserWarning: Do not pass an `input_shape`/`input_dim` argument to a layer. When using Sequential models, prefer using an `Input(shape)` object as the first layer in the model instead.\n",
      "  super().__init__(**kwargs)\n"
     ]
    }
   ],
   "source": [
    "model=Sequential()\n",
    "model.add(LSTM(128, return_sequences=True, input_shape=(time_step,1)))\n",
    "model.add(LSTM(128, return_sequences=True))\n",
    "model.add(LSTM(64))\n",
    "model.add(Dense(1))\n",
    "model.compile(loss='mean_squared_error', optimizer='adam')"
   ]
  },
  {
   "cell_type": "code",
   "execution_count": 16,
   "metadata": {},
   "outputs": [
    {
     "data": {
      "text/html": [
       "<pre style=\"white-space:pre;overflow-x:auto;line-height:normal;font-family:Menlo,'DejaVu Sans Mono',consolas,'Courier New',monospace\"><span style=\"font-weight: bold\">Model: \"sequential\"</span>\n",
       "</pre>\n"
      ],
      "text/plain": [
       "\u001b[1mModel: \"sequential\"\u001b[0m\n"
      ]
     },
     "metadata": {},
     "output_type": "display_data"
    },
    {
     "data": {
      "text/html": [
       "<pre style=\"white-space:pre;overflow-x:auto;line-height:normal;font-family:Menlo,'DejaVu Sans Mono',consolas,'Courier New',monospace\">┏━━━━━━━━━━━━━━━━━━━━━━━━━━━━━━━━━┳━━━━━━━━━━━━━━━━━━━━━━━━┳━━━━━━━━━━━━━━━┓\n",
       "┃<span style=\"font-weight: bold\"> Layer (type)                    </span>┃<span style=\"font-weight: bold\"> Output Shape           </span>┃<span style=\"font-weight: bold\">       Param # </span>┃\n",
       "┡━━━━━━━━━━━━━━━━━━━━━━━━━━━━━━━━━╇━━━━━━━━━━━━━━━━━━━━━━━━╇━━━━━━━━━━━━━━━┩\n",
       "│ lstm (<span style=\"color: #0087ff; text-decoration-color: #0087ff\">LSTM</span>)                     │ (<span style=\"color: #00d7ff; text-decoration-color: #00d7ff\">None</span>, <span style=\"color: #00af00; text-decoration-color: #00af00\">60</span>, <span style=\"color: #00af00; text-decoration-color: #00af00\">128</span>)        │        <span style=\"color: #00af00; text-decoration-color: #00af00\">66,560</span> │\n",
       "├─────────────────────────────────┼────────────────────────┼───────────────┤\n",
       "│ lstm_1 (<span style=\"color: #0087ff; text-decoration-color: #0087ff\">LSTM</span>)                   │ (<span style=\"color: #00d7ff; text-decoration-color: #00d7ff\">None</span>, <span style=\"color: #00af00; text-decoration-color: #00af00\">60</span>, <span style=\"color: #00af00; text-decoration-color: #00af00\">128</span>)        │       <span style=\"color: #00af00; text-decoration-color: #00af00\">131,584</span> │\n",
       "├─────────────────────────────────┼────────────────────────┼───────────────┤\n",
       "│ lstm_2 (<span style=\"color: #0087ff; text-decoration-color: #0087ff\">LSTM</span>)                   │ (<span style=\"color: #00d7ff; text-decoration-color: #00d7ff\">None</span>, <span style=\"color: #00af00; text-decoration-color: #00af00\">64</span>)             │        <span style=\"color: #00af00; text-decoration-color: #00af00\">49,408</span> │\n",
       "├─────────────────────────────────┼────────────────────────┼───────────────┤\n",
       "│ dense (<span style=\"color: #0087ff; text-decoration-color: #0087ff\">Dense</span>)                   │ (<span style=\"color: #00d7ff; text-decoration-color: #00d7ff\">None</span>, <span style=\"color: #00af00; text-decoration-color: #00af00\">1</span>)              │            <span style=\"color: #00af00; text-decoration-color: #00af00\">65</span> │\n",
       "└─────────────────────────────────┴────────────────────────┴───────────────┘\n",
       "</pre>\n"
      ],
      "text/plain": [
       "┏━━━━━━━━━━━━━━━━━━━━━━━━━━━━━━━━━┳━━━━━━━━━━━━━━━━━━━━━━━━┳━━━━━━━━━━━━━━━┓\n",
       "┃\u001b[1m \u001b[0m\u001b[1mLayer (type)                   \u001b[0m\u001b[1m \u001b[0m┃\u001b[1m \u001b[0m\u001b[1mOutput Shape          \u001b[0m\u001b[1m \u001b[0m┃\u001b[1m \u001b[0m\u001b[1m      Param #\u001b[0m\u001b[1m \u001b[0m┃\n",
       "┡━━━━━━━━━━━━━━━━━━━━━━━━━━━━━━━━━╇━━━━━━━━━━━━━━━━━━━━━━━━╇━━━━━━━━━━━━━━━┩\n",
       "│ lstm (\u001b[38;5;33mLSTM\u001b[0m)                     │ (\u001b[38;5;45mNone\u001b[0m, \u001b[38;5;34m60\u001b[0m, \u001b[38;5;34m128\u001b[0m)        │        \u001b[38;5;34m66,560\u001b[0m │\n",
       "├─────────────────────────────────┼────────────────────────┼───────────────┤\n",
       "│ lstm_1 (\u001b[38;5;33mLSTM\u001b[0m)                   │ (\u001b[38;5;45mNone\u001b[0m, \u001b[38;5;34m60\u001b[0m, \u001b[38;5;34m128\u001b[0m)        │       \u001b[38;5;34m131,584\u001b[0m │\n",
       "├─────────────────────────────────┼────────────────────────┼───────────────┤\n",
       "│ lstm_2 (\u001b[38;5;33mLSTM\u001b[0m)                   │ (\u001b[38;5;45mNone\u001b[0m, \u001b[38;5;34m64\u001b[0m)             │        \u001b[38;5;34m49,408\u001b[0m │\n",
       "├─────────────────────────────────┼────────────────────────┼───────────────┤\n",
       "│ dense (\u001b[38;5;33mDense\u001b[0m)                   │ (\u001b[38;5;45mNone\u001b[0m, \u001b[38;5;34m1\u001b[0m)              │            \u001b[38;5;34m65\u001b[0m │\n",
       "└─────────────────────────────────┴────────────────────────┴───────────────┘\n"
      ]
     },
     "metadata": {},
     "output_type": "display_data"
    },
    {
     "data": {
      "text/html": [
       "<pre style=\"white-space:pre;overflow-x:auto;line-height:normal;font-family:Menlo,'DejaVu Sans Mono',consolas,'Courier New',monospace\"><span style=\"font-weight: bold\"> Total params: </span><span style=\"color: #00af00; text-decoration-color: #00af00\">247,617</span> (967.25 KB)\n",
       "</pre>\n"
      ],
      "text/plain": [
       "\u001b[1m Total params: \u001b[0m\u001b[38;5;34m247,617\u001b[0m (967.25 KB)\n"
      ]
     },
     "metadata": {},
     "output_type": "display_data"
    },
    {
     "data": {
      "text/html": [
       "<pre style=\"white-space:pre;overflow-x:auto;line-height:normal;font-family:Menlo,'DejaVu Sans Mono',consolas,'Courier New',monospace\"><span style=\"font-weight: bold\"> Trainable params: </span><span style=\"color: #00af00; text-decoration-color: #00af00\">247,617</span> (967.25 KB)\n",
       "</pre>\n"
      ],
      "text/plain": [
       "\u001b[1m Trainable params: \u001b[0m\u001b[38;5;34m247,617\u001b[0m (967.25 KB)\n"
      ]
     },
     "metadata": {},
     "output_type": "display_data"
    },
    {
     "data": {
      "text/html": [
       "<pre style=\"white-space:pre;overflow-x:auto;line-height:normal;font-family:Menlo,'DejaVu Sans Mono',consolas,'Courier New',monospace\"><span style=\"font-weight: bold\"> Non-trainable params: </span><span style=\"color: #00af00; text-decoration-color: #00af00\">0</span> (0.00 B)\n",
       "</pre>\n"
      ],
      "text/plain": [
       "\u001b[1m Non-trainable params: \u001b[0m\u001b[38;5;34m0\u001b[0m (0.00 B)\n"
      ]
     },
     "metadata": {},
     "output_type": "display_data"
    }
   ],
   "source": [
    "model.summary()"
   ]
  },
  {
   "cell_type": "code",
   "execution_count": null,
   "metadata": {},
   "outputs": [],
   "source": [
    "model.fit(X_train,y_train, validation_data=(X_test,y_test), epochs=100, batch_size=64, verbose=1)"
   ]
  },
  {
   "cell_type": "code",
   "execution_count": 18,
   "metadata": {},
   "outputs": [],
   "source": [
    "from keras.models import load_model"
   ]
  },
  {
   "cell_type": "code",
   "execution_count": null,
   "metadata": {},
   "outputs": [],
   "source": [
    "model.save('Icici_Pred_model.h5')"
   ]
  },
  {
   "cell_type": "code",
   "execution_count": 19,
   "metadata": {},
   "outputs": [
    {
     "name": "stderr",
     "output_type": "stream",
     "text": [
      "WARNING:absl:Compiled the loaded model, but the compiled metrics have yet to be built. `model.compile_metrics` will be empty until you train or evaluate the model.\n"
     ]
    }
   ],
   "source": [
    "model = load_model('Model/Icici_Pred_model.h5')"
   ]
  },
  {
   "cell_type": "code",
   "execution_count": 20,
   "metadata": {},
   "outputs": [
    {
     "name": "stdout",
     "output_type": "stream",
     "text": [
      "\u001b[1m30/30\u001b[0m \u001b[32m━━━━━━━━━━━━━━━━━━━━\u001b[0m\u001b[37m\u001b[0m \u001b[1m2s\u001b[0m 53ms/step\n",
      "\u001b[1m7/7\u001b[0m \u001b[32m━━━━━━━━━━━━━━━━━━━━\u001b[0m\u001b[37m\u001b[0m \u001b[1m0s\u001b[0m 36ms/step\n"
     ]
    }
   ],
   "source": [
    "import tensorflow as tf\n",
    "### Lets Do the prediction and check performance metrics\n",
    "train_predict=model.predict(X_train)\n",
    "test_predict=model.predict(X_test)\n",
    "##Transformback to original form\n",
    "train_predict=scaler.inverse_transform(train_predict)\n",
    "test_predict=scaler.inverse_transform(test_predict)\n"
   ]
  },
  {
   "cell_type": "code",
   "execution_count": 21,
   "metadata": {},
   "outputs": [
    {
     "data": {
      "text/plain": [
       "740.194082168964"
      ]
     },
     "execution_count": 21,
     "metadata": {},
     "output_type": "execute_result"
    }
   ],
   "source": [
    "### Calculate RMSE performance metrics\n",
    "import math\n",
    "from sklearn.metrics import mean_squared_error\n",
    "math.sqrt(mean_squared_error(y_train, train_predict))"
   ]
  },
  {
   "cell_type": "code",
   "execution_count": 22,
   "metadata": {},
   "outputs": [
    {
     "data": {
      "text/plain": [
       "1247.1351179186029"
      ]
     },
     "execution_count": 22,
     "metadata": {},
     "output_type": "execute_result"
    }
   ],
   "source": [
    "math.sqrt(mean_squared_error(y_test, test_predict))"
   ]
  },
  {
   "cell_type": "code",
   "execution_count": 23,
   "metadata": {},
   "outputs": [
    {
     "data": {
      "image/png": "[encoded data removed]",
      "text/plain": [
       "<Figure size 640x480 with 1 Axes>"
      ]
     },
     "metadata": {},
     "output_type": "display_data"
    }
   ],
   "source": [
    "### Plotting\n",
    "# shift train predictions for plotting\n",
    "look_back=time_step\n",
    "trainPredictPlot = numpy.empty_like(df)\n",
    "trainPredictPlot[:, :] = np.nan\n",
    "trainPredictPlot [look_back: len(train_predict) +look_back, :] = train_predict\n",
    "# shift test predictions for plotting\n",
    "testPredictPlot = numpy.empty_like(df)\n",
    "testPredictPlot[:, :] = numpy.nan\n",
    "testPredictPlot[len(train_predict)+(look_back*2)+1:len(df)-1, :] = test_predict\n",
    "# plot baseline and predictions\n",
    "plt.plot(scaler.inverse_transform(df))\n",
    "# plt.plot(trainPredictPlot)\n",
    "plt.plot(testPredictPlot)\n",
    "plt.show()"
   ]
  },
  {
   "cell_type": "code",
   "execution_count": null,
   "metadata": {},
   "outputs": [],
   "source": []
  }
 ],
 "metadata": {
  "kernelspec": {
   "display_name": ".env",
   "language": "python",
   "name": "python3"
  },
  "language_info": {
   "codemirror_mode": {
    "name": "ipython",
    "version": 3
   },
   "file_extension": ".py",
   "mimetype": "text/x-python",
   "name": "python",
   "nbconvert_exporter": "python",
   "pygments_lexer": "ipython3",
   "version": "3.10.11"
  }
 },
 "nbformat": 4,
 "nbformat_minor": 2
}
